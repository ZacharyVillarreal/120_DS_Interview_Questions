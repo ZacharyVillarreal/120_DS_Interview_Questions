{
 "cells": [
  {
   "cell_type": "markdown",
   "metadata": {},
   "source": [
    "# Programming - 14 Questions"
   ]
  },
  {
   "cell_type": "markdown",
   "metadata": {},
   "source": [
    "1. Write a function to calculate all possible assignment vectors of 2n users, where n users are assigned to group 0 (control), and n users are assigned to group 1 (treatment)."
   ]
  },
  {
   "cell_type": "code",
   "execution_count": 1,
   "metadata": {},
   "outputs": [
    {
     "name": "stdout",
     "output_type": "stream",
     "text": [
      "[[1, 1, 0, 0], [1, 0, 1, 0], [1, 0, 0, 1], [0, 1, 1, 0], [0, 1, 0, 1], [0, 0, 1, 1]]\n"
     ]
    }
   ],
   "source": [
    "def n_choose_k(n, k):\n",
    "    if k == 1:\n",
    "        ans = []\n",
    "        for i in range(n):\n",
    "            tmp = [0] * n\n",
    "            tmp[i] = 1\n",
    "            ans.append(tmp)\n",
    "        return ans\n",
    "    \n",
    "    if k == n:\n",
    "        return [[1] * n]\n",
    "\n",
    "    ans = []\n",
    "    space = n - k + 1\n",
    "    for i in range(space):\n",
    "        assignment = [0] * (i + 1)\n",
    "        assignment[i] = 1\n",
    "        for c in n_choose_k(n - i - 1, k - 1):\n",
    "            ans.append(assignment + c)\n",
    "    return ans\n",
    "\n",
    "print(n_choose_k(4, 2))"
   ]
  },
  {
   "cell_type": "markdown",
   "metadata": {},
   "source": [
    "2. Given a list of tweets, determine the top 10 most used hashtags\n",
    "    * You could store all the hastags in a dictionary and you can find the top 10 most used hashtags"
   ]
  },
  {
   "cell_type": "markdown",
   "metadata": {},
   "source": [
    "3. Program an algorithm to find the best approximate solution to the knapsack problem in a given time.\n",
    "    * You can use the greedy algorithm:\n",
    "        * Always chooses the next piece that offers the most obvious and immediate benefit.\n",
    "        * Chooses locally optimal solutions that leadas to a global solution"
   ]
  },
  {
   "cell_type": "markdown",
   "metadata": {},
   "source": [
    "4. Program an alorithm to find the best approximate solution tothe travelling salesman $problem^2$ in a given time\n",
    "    * You can use a mixture of the greedy algorithm w/ dynamic programming"
   ]
  },
  {
   "cell_type": "markdown",
   "metadata": {},
   "source": [
    "5. You have a stream of data coming in of size n, but you don’t know what n is ahead of time. Write an algorithm that will take a random sample of k elements. Can you write one that takes O(k) space?\n",
    "    * Reservoir Sampling"
   ]
  },
  {
   "cell_type": "code",
   "execution_count": 2,
   "metadata": {},
   "outputs": [
    {
     "name": "stdout",
     "output_type": "stream",
     "text": [
      "Following are k randomly selected items\n",
      "12 2 3 5 8 \n"
     ]
    }
   ],
   "source": [
    "import random\n",
    "\n",
    "def printArray(stream, n):\n",
    "    for i in range(n):\n",
    "        print(stream[i], end = \" \")\n",
    "    print()\n",
    "    \n",
    "def select_K_items(stream, n, k):\n",
    "    i = 0\n",
    "    reservoir = [0] * k\n",
    "    \n",
    "    for i in range(k):\n",
    "        reservoir[i] = stream[i]\n",
    "        \n",
    "    while i < n:\n",
    "        j = random.randrange(i+1)\n",
    "        if j < k:\n",
    "            reservoir[j] = stream[i]\n",
    "        i += 1\n",
    "        \n",
    "    print(\"Following are k randomly selected items\")\n",
    "    printArray(reservoir, k)\n",
    "    \n",
    "stream = [1, 2, 3, 4, 5, 6, 7, 8, 9, 10, 11, 12]\n",
    "n = len(stream)\n",
    "k = 5\n",
    "select_K_items(stream, n, k)"
   ]
  },
  {
   "cell_type": "markdown",
   "metadata": {},
   "source": [
    "6. Write an algorithm that can calculate the square root of a number."
   ]
  },
  {
   "cell_type": "code",
   "execution_count": 3,
   "metadata": {},
   "outputs": [],
   "source": [
    "def square_root(n):\n",
    "    return n ** 0.5"
   ]
  },
  {
   "cell_type": "markdown",
   "metadata": {},
   "source": [
    "7. Given a list of numbers, can you return the outliers?\n",
    "    * sort the list then select the lowest and highst 2.5%"
   ]
  },
  {
   "cell_type": "code",
   "execution_count": 8,
   "metadata": {},
   "outputs": [],
   "source": [
    "import numpy as np\n",
    "\n",
    "def is_outlier(points, thresh=2.5):\n",
    "    if len(points.shape) == 1:\n",
    "        points = points[:, None]\n",
    "    \n",
    "    median = np.median(points, axis = 0)\n",
    "    diff = np.sum((points-median)**2, axis = -1)\n",
    "    diff = np.sqrt(diff)\n",
    "    med_abs_deviation = np.median(diff)\n",
    "    \n",
    "    modified_z_score = 0.6745 * diff / med_abs_deviation\n",
    "    \n",
    "    return modified_z_score > thresh\n",
    "\n",
    "\n",
    "# OR\n",
    "\n",
    "#percentiles = np.percentile(data, [2.5, 97.5])\n",
    "\n",
    "#data[(percentiles[0]<data) & (percentiles[1]>data)]"
   ]
  },
  {
   "cell_type": "markdown",
   "metadata": {},
   "source": [
    "8. When can parallelism make your algorithms run faster When could it make your algorithms run slower?\n",
    "    * Only compute in parallel when communication cost is less than computation cost:\n",
    "        * ensemble methods\n",
    "        * cross validation\n",
    "        * forward propagation"
   ]
  },
  {
   "cell_type": "markdown",
   "metadata": {},
   "source": [
    "9. What are the different types of joins? What are the differences between them?\n",
    "    * INNER JOIN:\n",
    "        * Returns records that have matching values in both tables\n",
    "    * LEFT OUTER JOIN:\n",
    "        * Returns all records from the left table and the matched records from the right table\n",
    "    * RIGHT OUTER JOIN:\n",
    "        * Returns all recrods from the right table and the matched records from the left table\n",
    "    * FULL OUTER JOIN:\n",
    "        * Returns all records when there is a match in either left or right table"
   ]
  },
  {
   "cell_type": "markdown",
   "metadata": {},
   "source": [
    "10. Why might a join on a subquery be slow? How might you speed it up?\n",
    "    * Subqueries are slow, if they are correlated.\n",
    "    * Instead reformat the subquery as a join."
   ]
  },
  {
   "cell_type": "markdown",
   "metadata": {},
   "source": [
    "11. Describe the difference between primary keys and foreign keys in a SQL database.\n",
    "    * Primary keys are columns whose value combinations must be unique and in a specific table so that each row can be reference uniquely\n",
    "    * Foreign keys are columns that references, usually prinary keys, in other tables."
   ]
  },
  {
   "cell_type": "markdown",
   "metadata": {},
   "source": [
    "12. Given a COURSES table with columns course_id and course_name, a FACULTY table with columns faculty_id and faculty_name, and a COURSE_FACULTY table with columns faculty_id and course_id, how would you return a list of faculty who teach a course given the name of a course?"
   ]
  },
  {
   "cell_type": "code",
   "execution_count": 14,
   "metadata": {},
   "outputs": [],
   "source": [
    "# SELECT f.faculty_name\n",
    "# FROM COURSES c\n",
    "# JOIN COURSE_FACTULY cf\n",
    "#     ON c.course_id = cf.course_id\n",
    "# JOIN FACULTY f\n",
    "#     ON f.faculty_id = cf.faculty_id\n",
    "# WHERE c.course_name = xxx;"
   ]
  },
  {
   "cell_type": "markdown",
   "metadata": {},
   "source": [
    "13. Given a IMPRESSIONS table with ad_id, click (an indicator that the ad was clicked), and date, write a SQL query that will tell me the click-through-rate of each ad by month."
   ]
  },
  {
   "cell_type": "code",
   "execution_count": 10,
   "metadata": {},
   "outputs": [
    {
     "data": {
      "text/plain": [
       "'\\nSELECT ad_id, AVG(click)\\nFROM IMPRESSIONS\\nGROUP BY ad_id, MONTH(date);\\n'"
      ]
     },
     "execution_count": 10,
     "metadata": {},
     "output_type": "execute_result"
    }
   ],
   "source": [
    "# SELECT ad_id, MONTH(DATE), AVG(click)\n",
    "# FROM IMPRESSIONS\n",
    "# GROUP BY ad_id, MONTH(date);"
   ]
  },
  {
   "cell_type": "markdown",
   "metadata": {},
   "source": [
    "14. Write a query that returns the name of each department and a count of the number of employees in each:<br>\n",
    "EMPLOYEES containing: Emp_ID (Primary key) and Emp_Name<br>\n",
    "EMPLOYEE_DEPT containing: Emp_ID (Foreign key) and Dept_ID (Foreign key)<br>\n",
    "DEPTS containing: Dept_ID (Primary key) and Dept_Name<br>"
   ]
  },
  {
   "cell_type": "code",
   "execution_count": 13,
   "metadata": {},
   "outputs": [],
   "source": [
    "# SELECT Dept_Name, COUNT(*)\n",
    "# FROM DEPTS d\n",
    "# LEFT JOIN EMPLOYEE_DEPT ed\n",
    "#     ON d.Dept_ID = ed.Dept_ID\n",
    "# GROUP BY Dept_Name;"
   ]
  }
 ],
 "metadata": {
  "kernelspec": {
   "display_name": "Python 3.7.4 64-bit ('base': conda)",
   "language": "python",
   "name": "python37464bitbaseconda7d173c5ac3d647bb86950a56c57e9e53"
  },
  "language_info": {
   "codemirror_mode": {
    "name": "ipython",
    "version": 3
   },
   "file_extension": ".py",
   "mimetype": "text/x-python",
   "name": "python",
   "nbconvert_exporter": "python",
   "pygments_lexer": "ipython3",
   "version": "3.7.4"
  }
 },
 "nbformat": 4,
 "nbformat_minor": 4
}
