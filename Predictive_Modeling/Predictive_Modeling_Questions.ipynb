{
 "cells": [
  {
   "cell_type": "markdown",
   "metadata": {},
   "source": [
    "# Predictive Modeling - 19 Questions"
   ]
  },
  {
   "cell_type": "markdown",
   "metadata": {},
   "source": [
    "1. (Given a Dataset) Analyze this dataset and give me a model that can predict this response variable.\n",
    "    * Problem Determination -> Data Cleaning -> Data Visualization -> Feature engineering -> Modeling\n",
    "    * Try to start by fitting a simple model (logistic regression, linear regression), do some feature engineering according, and then try more complicated models. Always split the data set into train and test data, and use cross validation to check their performance.\n",
    "    * Determine if the problem is classification or regression\n",
    "    * Favor simple models that run quickly and that can be easily explained.\n",
    "    * Mention cross validation as a means to evaluate the model\n",
    "    * Plot and visualize the data"
   ]
  },
  {
   "cell_type": "markdown",
   "metadata": {},
   "source": [
    "2. What could be some issues if the distribution of the test data is significantly different than the distribution of the training data.\n",
    "    * The model will have high training accuracy but have a low test accuracy. Without knowing a bunch of information about the dataa, it is hard to understand which dataset represents the population data and the generalizability of the algorithm is hard to measure. This should be mitigated by repeated splitting of train vs. test dataset (cross-validation).\n",
    "        * If the train and test data has a different distribution, the classifier would likely overfit to the train data.\n",
    "        * This issue can be overcome by using a more general learning method.\n",
    "        * This can occur when:\n",
    "            * P(y|x) are the same but P(x) are different. (covariance shift)\n",
    "            * P(y|x) are different. (concept shift)\n",
    "        * Thue causes can be:\n",
    "            * Training samples are obtained in a biased way. (sample selection bias).\n",
    "            * Train is different from test because of the temporal, or spatial changes.\n",
    "        * Solution to covariate shift:\n",
    "            * importance weighted cv."
   ]
  },
  {
   "cell_type": "markdown",
   "metadata": {},
   "source": [
    "3. What are some ways I can make my model more robust to outliers.\n",
    "    * We can have L1 or L2 regularization to reduce variance (or increase bias).\n",
    "    * Changes to the algorithm:\n",
    "        * Use tree-based methods instead of regression methods as they are more resistant to outliers. For statistical tests, use non-parametric tests instead of parametric ones.\n",
    "        * Use robust erro metrics use as MAE or Huber Loss.\n",
    "    * Changes to the data:\n",
    "        * Winsorizing the data\n",
    "        * Transforming the data(take the log)\n",
    "        * Remove them only if you're certain they're anomalies and not worth predicting."
   ]
  },
  {
   "cell_type": "markdown",
   "metadata": {},
   "source": [
    "4. What are some differences you would expect in a model that minimizes squared error, vs a model that minimizes absolute error? In which cases would each error metric be appropriate?\n",
    "    * MSE is more strict to having outliers. While, MAE is more robust in that sense, but is harder to fit the model for because it cannot be numerically optimized. So, when there is less variability in the model and the model is computationally easy to fit, we should use MAE, and if that's not the case, we should use MSE.\n",
    "    * MSE:\n",
    "        * Easier to compute the gradient\n",
    "        * Correspondes to maximizing likelihood of Gaussian random variables\n",
    "    * MAE:\n",
    "        * Linear programming needed to compute the gradient\n",
    "        * more robust to outliers, if the consequences of large errors are great, use MSE.\n",
    "        "
   ]
  },
  {
   "cell_type": "markdown",
   "metadata": {},
   "source": [
    "5. What error metric would you use to evaluate how good a binary classifier is? What if the classes are imbalanced? What if there are more than 2 groups?\n",
    "    * Accuracy:\n",
    "        * Proportion of instances you predicted correctly\n",
    "        * Pros: intuitive, easy to explain\n",
    "        * Cons: works poorly when the class labels are imbalanced and the signal from the data is weak\n",
    "    * ROC curve and AOC:\n",
    "        * Plot false-positive-rate(fpr) on the x-axis and the true-positive-rate(tpr) on the y-axis for different threshold. Given a random positive instance and a random negative instance, the AUC is the probability that you can identify who's who. \n",
    "        * Pros: Works well when testing the ability of distinguishing the two classes\n",
    "        * Cons: Can't interpret predictions as possibilities (b/c AUC is determined by rankings), so can't exaplin the uncertainty of the model, and it doesn't work for mult-class case.\n",
    "    * Logloss/deviance/cross-entropy:\n",
    "        * Pros: Error metric based on probabilities\n",
    "        * Cons: very sensitive to false positives, negatives\n",
    "    * When there are more than 2 groups, we have k binary classifications and add them up for logloss. Some metrics like AUC is only applicable in the binary case.\n",
    "    "
   ]
  },
  {
   "cell_type": "markdown",
   "metadata": {},
   "source": [
    "6. What are various ways to predict a binary response variable? Can you compare two of them and tell me when one would be more appropriate? What’s the difference between these? (SVM, Logistic Regression, Naive Bayes, Decision Tree, etc.)\n",
    "    * Things to look at: N, P, linearly seperable, features independent, likely to overfit\n",
    "    * Logistic Regression:\n",
    "        * Features roughly linear, problem roughly linealy seperable\n",
    "        * Robust to noise, use L1/L2 Regularization for model selection, avoid overfitting\n",
    "        * The output come as probabilities\n",
    "        * Efficient and the computation can be distributed\n",
    "        * Can be used as a baseline for other algorithms\n",
    "        * Negative: can hardly handle categorical features\n",
    "    * SVM:\n",
    "        * W/ a non-linear kernel, can deal with problems that are not linearly separable\n",
    "        * Negative: Slow to train, for most industry scale applications, not really efficient.\n",
    "    * Naive Bayes:\n",
    "        * Computationally efficient when P is large by alleviating the curse of dimensionality.\n",
    "        * Works surprisingly well for some cases even if the condition doesn't hold\n",
    "        * W/ word frequencies as features, the independence assumption can be seen reasonable. So the algorithm can be used in text categorization\n",
    "        * Negative: Conditional independence of every other feature should be met.\n",
    "    * Tree Ensembles:\n",
    "        * Good for large N and large P, can deal with categorical features very well\n",
    "        * Non-parametric, so no need to worry about outliers\n",
    "        * GBT's work better but the parameters are harder to tune\n",
    "        * RF works out of the box, but usually performs worse than GBT\n",
    "    * Deep Learning:\n",
    "        * Works well for some classification takes (e.g. image)\n",
    "        * Used to squeeze something out of the problem"
   ]
  },
  {
   "cell_type": "markdown",
   "metadata": {},
   "source": [
    "7. What is regularization and where might it be helpful? What is an example of using regularization in a model?\n",
    "    * Regularization:\n",
    "        * Regulatization is a tool to deal with overfitting, it is useful for reducing variance in the model.\n",
    "    * L1 Regulatization:\n",
    "        * Lasso Regularization is used to penalize large coefficients and automatically select features\n",
    "        * adds the *absolute value of magnitude* to the cost function \n",
    "    * L2 Regularization:\n",
    "        * Ridge Regularization is used to peanlize the feature coefficients\n",
    "        * Adds the *squared value of magnitude* to the cost function"
   ]
  },
  {
   "cell_type": "markdown",
   "metadata": {},
   "source": [
    "8. Why might it be preferable to include fewer predictors over many?\n",
    "    * When we add irrelevent features, it increases the model's tendency to overfit because those features introduce more noise. When two variables are correlated, they might be harder to interpret in case of regression, etc.\n",
    "    * Curse of dimensionality, adding random noise makes the model more complicated but useless\n",
    "    * Computational cost"
   ]
  },
  {
   "cell_type": "markdown",
   "metadata": {},
   "source": [
    "9. Given training data on tweets and their retweets, how would you predict the number of retweets of a given tweet after 7 days after only observing 2 days worth of data?\n",
    "    * Build a time series model w/ the training data with a seven day cycle and then use that for a new data set w only 2 days of data.\n",
    "    * BUild a regression function to estimate the number of retweets as a function of time t\n",
    "    * To determine if one regression function can be built, see if there are clusters in terms of the trends in the number of tweets."
   ]
  },
  {
   "cell_type": "markdown",
   "metadata": {},
   "source": [
    "10. How could you collect and analyze data to use social media to predict the weather?\n",
    "    * Collect the historical feed of interest (could be based on location or social network)\n",
    "    * Define and label the weather in the past x days for each feed\n",
    "    * For each feed, find the words or phrase with text matrix. (there could be some features, i.e. words, that correlate w/ weather), use feature reduction to determine the best words to predict weather"
   ]
  },
  {
   "cell_type": "markdown",
   "metadata": {},
   "source": [
    "11. How would you construct a feed to show relevant content for a site that involves user interactions with items?\n",
    "    * We could do this using a recommendation engine.\n",
    "    * The easiest we can do is to show contents that are popular to other uses\n",
    "    * To be more accurate:\n",
    "        * We can build a content-based filtering or collaborative filtering.\n",
    "        * If there's enough user usage data, we can try collaborative filtering and recommend contents other similar users have consumed\n",
    "        * If there isn't, we can recommend similar items based on vectorization of items (content based filterting)"
   ]
  },
  {
   "cell_type": "markdown",
   "metadata": {},
   "source": [
    "12. How would you design the people you may know feature on LinkedIn or Facebook?\n",
    "    * Find strong unconnected people in weighted connection graph.\n",
    "        * Define similarity as how strong the two people are connected.\n",
    "        * Given a certain feature, we can calculate the similarity based on:\n",
    "            * Friend connections (neighbors)\n",
    "            * Check-in's people being at the same location all the time.\n",
    "            * Same college, workplace, etc.\n",
    "            * Have randomly dropped graphs test the performance of the algo\n",
    "    * Reference News Feed Optimization:\n",
    "        * Affinity Score: how close the content creator and the users are\n",
    "        * Weight: Weight for the edge type (comment, like, tag, etc.). Emphasis on features the company wants to promote.\n",
    "        * Time Decay: the older the less important"
   ]
  },
  {
   "cell_type": "markdown",
   "metadata": {},
   "source": [
    "13. How would you predict who someone may want to send a Snapchat or Gmail to?\n",
    "    * For each user, assign a score of how likely someone would send an email to\n",
    "    * The rest is feature engineering:\n",
    "        * Number of past emails, how many eresponses, the last time they exchange an email, whether the last email has specific characters in it, features about the other users, etc.\n",
    "    * Emailing behavior, who they email the most frequently, time decay, etc.\n"
   ]
  },
  {
   "cell_type": "markdown",
   "metadata": {},
   "source": [
    "14. How would you suggest to a franchise where to open a new store?\n",
    "    * BUild a master dataset w/ local demographic information available for each location\n",
    "        * Local income levels, proximity to traffic, weather, population density, proximity to other buisinesses. \n",
    "        * A reference dataset on local, regional, and national macroeconomic conditions (e.g. unemployment, inflation, prime interest rate, etc.)\n",
    "        * Any data on the local franchise owner-operators, to the degree of the manager\n",
    "    * Identify a set of KPIs acceptable to the management that had requested the analysis concerning the most desirable factors surrounding a franchise\n",
    "        * Quarterly operating profit, ROI, EVA, pay-down rate, etc.\n",
    "    * Run econometric models to understand the relative significance of each variable\n",
    "    * Run machine learning algorithms to predict the performance of each location candidate"
   ]
  },
  {
   "cell_type": "markdown",
   "metadata": {},
   "source": [
    "15. In a search engine, given partial data on what the user has typed, how would you predict the user's eventual search query?\n",
    "    * Based on the frequency of words shown up given a sequence of characters, we can construct conditional probabilities of the set of next sequences of wwords that can show up (use n-grams).\n",
    "    * The sequence w/ the highest conditional probabilities can show up as top candidates.\n",
    "    * To further improve the algorithm:\n",
    "        * We can put more weight on past sequences which showed up more recently or more closely in proximity to the user's location\n",
    "        * Look at your recent searches\n",
    "    * Personalize and localize the search\n",
    "        * Use the user's historical search data\n",
    "        * Use the historical data from that user's area"
   ]
  },
  {
   "cell_type": "markdown",
   "metadata": {},
   "source": [
    "16. Given a database of all previous alumni donations to your university, how would you predict which recent alumni are most likely to donate?\n",
    "    * Use a binary classification algorithm (i.e. RF, Logreg) \n",
    "    * Base it on frequency and amount of donations, graduation, year, major, organization, etc."
   ]
  },
  {
   "cell_type": "markdown",
   "metadata": {},
   "source": [
    "17. You’re Uber and you want to design a heatmap to recommend to drivers where to wait for a passenger. How would you approach this?\n",
    "    * Based on the pickup locations of past passengers around the same time of day, day of week, year, etc. \n",
    "    * Based on the number of past pickups\n",
    "        * account for periodicity\n",
    "        * special events"
   ]
  },
  {
   "cell_type": "markdown",
   "metadata": {},
   "source": [
    "18. How would you build a model to predict a March Madness bracket?\n",
    "    * Use a lienar model to predict score differential between two teams, given their historical data\n",
    "    * As well as, use lots of generated features (budget, player physicality, player statistics, etc.)"
   ]
  },
  {
   "cell_type": "markdown",
   "metadata": {},
   "source": [
    "19. You want to run a regression to predict the probability of a flight delay, but there are flights with delays of up to 12 hours that are really messing up your model. How can you address this?\n",
    "    * Make the model more robust to outliers:\n",
    "        * User Regularization or change the algorithm\n",
    "        * Tree-based algorithsm or MAE or Huber loser\n",
    "        * Transform the data (log)"
   ]
  }
 ],
 "metadata": {
  "kernelspec": {
   "display_name": "Python 3.7.4 64-bit ('base': conda)",
   "language": "python",
   "name": "python37464bitbaseconda7d173c5ac3d647bb86950a56c57e9e53"
  },
  "language_info": {
   "codemirror_mode": {
    "name": "ipython",
    "version": 3
   },
   "file_extension": ".py",
   "mimetype": "text/x-python",
   "name": "python",
   "nbconvert_exporter": "python",
   "pygments_lexer": "ipython3",
   "version": "3.7.4"
  }
 },
 "nbformat": 4,
 "nbformat_minor": 4
}
