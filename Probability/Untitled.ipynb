{
 "cells": [
  {
   "cell_type": "markdown",
   "metadata": {},
   "source": [
    "# Probability - 19 Questions"
   ]
  },
  {
   "cell_type": "markdown",
   "metadata": {},
   "source": [
    "1. Bobo the amoeba has a 25%, 25%, and 50% chance of producing 0, 1, or 2 offspring, respectively. Each of Bobo’s descendants also have the same probabilities. What is the probability that Bobo’s lineage dies out?\n",
    "    * $p = 1/4 + 1/4p + 1/2p^2 = p = 1/2$"
   ]
  },
  {
   "cell_type": "markdown",
   "metadata": {},
   "source": [
    "2. In any 15-minute interval, there is a 20% probability that you will see at least one shooting star. What is the probability that you see at least one shooting star in the period of an hour?\n",
    "    * Use Poisson Processes\n",
    "    * $1 - (0.8)^4 = 0.5904$"
   ]
  },
  {
   "cell_type": "markdown",
   "metadata": {},
   "source": [
    "3. How can you generate a random number between 1 - 7 with only a die?\n",
    "    * Roll the die 3 times: each roll sets the nth bit of the result\n",
    "    * For each launch, if the value is 1-3 record a 0, else 1. The result is between 0 (000) and 7 (111)."
   ]
  },
  {
   "cell_type": "markdown",
   "metadata": {},
   "source": [
    "4. How can you get a fair coin toss if someone hands you a coin that is weighted to come up heads more often than tails?\n",
    "    * Flip the coin twice:\n",
    "        * If the results are HT --> H\n",
    "        * If the results are TH --> T\n",
    "        * If the resulst is the same --> start over."
   ]
  },
  {
   "cell_type": "markdown",
   "metadata": {},
   "source": [
    "5. You have a 50-50 mixture of two normal distributions with the same standard deviation. How far apart do the means need to be in order for this distribution to be bi-modal?\n",
    "    * More than two standard deviations."
   ]
  },
  {
   "cell_type": "markdown",
   "metadata": {},
   "source": [
    "6. Given draws from a normal distribution with known parameters, how can you simulate draws from a uniform distribution?\n",
    "    * Plug your draw into the CDF of the normal distributino with those parameters. That is, plug it into its own CDF."
   ]
  },
  {
   "cell_type": "markdown",
   "metadata": {},
   "source": [
    "7. A certain couple tells you that they have two children, at least one of which is a girl. What is the probability that they have two girls?\n",
    "    * 3 options, since you know AT LEAST one is a girl:\n",
    "        * Girl/Girl --> What we want\n",
    "        * Girl/Boy\n",
    "        * Boy/Girl\n",
    "    * Thus $1/3$ probability that the couple will have two girls."
   ]
  },
  {
   "cell_type": "markdown",
   "metadata": {},
   "source": [
    "8. You have a group of couples that decide to have children until they have their first girl, after which they stop having children. What is the expected gender ratio of the children that are born? What is the expected number of children each couple will have?\n",
    "    * Geometric distribution: p = 0.5\n",
    "    * Gender Ratio is 1:1, so the expected number of Children will be 2\n",
    "    * let X be the number of children until getting a female, this follows a geometric distributino with a probability of $1/2$"
   ]
  },
  {
   "cell_type": "markdown",
   "metadata": {},
   "source": [
    "9. How many ways can you split 12 people into 3 teams of 4?\n",
    "    * This follows a multinomial distribution w/ n = 12 and k = 3\n",
    "    * The first team: 12 choose 4, then the second team would be 4 of the remaining 8 people, then the last team would be 4 of the remaining 4. \n",
    "    * $(12, 8) * (8, 4) * (4, 4) = 34,650$"
   ]
  },
  {
   "cell_type": "markdown",
   "metadata": {},
   "source": [
    "10. Your hash function assigns each object to a number between 1:10, each with equal probability. With 10 objects, what is the probability of a hash collision? What is the expected number of hash collisions? What is the expected number of hashes that are unused.\n",
    "    * The probability of a hash collision is: $1 - (10!/10^10)$\n",
    "    * The expected number of has collisions: $1 - 10*(9/10)^10$\n",
    "    * The expected number of unused hases is: $10 * (9/10)^10$"
   ]
  },
  {
   "cell_type": "markdown",
   "metadata": {},
   "source": [
    "11. You call 2 UberX’s and 3 Lyfts. If the time that each takes to reach you is IID, what is the probability that all the Lyfts arrive first? What is the probability that all the UberX’s arrive first?\n",
    "    * All Lyft's First:\n",
    "        * Probability that a car is w/ Lyft = 3/5\n",
    "        * Probability that the second car is w/ Lift = 2/4 = 1/2\n",
    "        * Probability that the third car is w/ Lift = 1/3\n",
    "        * Probability that all the Lyfts arrive first = (3/5) * (1/2) * (1/3) = 1/10\n",
    "    * All UberX's First:\n",
    "        * Probability that a car is w/ Uber = 2/5\n",
    "        * Probability that the second car is w/ Uber = 1/4\n",
    "        * Probability that all the UberX's arrive first = (2/5) * (1/4) = 1/10"
   ]
  },
  {
   "cell_type": "markdown",
   "metadata": {},
   "source": [
    "12. I write a program should print out all the numbers from 1 to 300, but prints out Fizz if the number is divisible by 3, Buzz instead if the number is divisible by 5, and FizzBuzz if the number if divisible by 3 and 5. What is the total number of numbers that is either, Fizz, Buzz, or FizzBuzz.\n",
    "    * Fizz = How many numbers between 3 and 300 are divisible by 3:\n",
    "        * $(300 - 2) / 3 = 298 / 3 = 99.333$ when rounded up, the total number of numbers between 1 to 300 that are divisible by $3$ is $100$.\n",
    "    * Buzz = How many numbers between 5 and 300 are divisible by 5:\n",
    "        * $(300 - 4) / 5 = 296 / 5 = 59.2$ when rounded up, the total number of numbers between 1 to 300 that are divisible by $5$ is $60$.\n",
    "    * FizzBuzz = How many numbers between 15 and 300 are divisible by 3 and 5:\n",
    "        * $(300 - 14) / 15 = 286 / 15 = 19.2$ when rounded up, the total number of numbers between 1 to 300 that are divisible by $15$ is $20$.\n",
    "    * *However*, because of the inclusion-exclusion principle, we must subtract the numbers that are divisible by both 3 and 5 from those that are divisible by each number separately, as to not count any numbers twice, THUS:\n",
    "        * The total number of numbers that is either, Fizz, Buzz, or FizzBuzz is $100 + 60 - 20 = 140$"
   ]
  },
  {
   "cell_type": "markdown",
   "metadata": {},
   "source": [
    "13. On a dating site, users can select 5 out of 24 adjectives to describe themselves. A match is declared between two users if they match on at least 4 adjectives. If Alice and Bob randomly pick adjectives, what is the probability that they form a match?\n",
    "    * There are 5 sets of 4 adjectives (5 C 4) that Bob can recieve that Alice chose.\n",
    "    * Similarly, there are 19 adjectives (19 C 1) that Bob can receive that were NOT given to Alice. \n",
    "    * Finally, there are (24 C 5) different sets of adjectives that a dater can take.\n",
    "    * We can then apply the naive definition of probability:\n",
    "        * The numerator being the number of ways that Bob can match Alice on 4 out of 5 adjectives, plus the number of ways that Bob can match Alice on 5 out of 5 adjectives. \n",
    "        * The demoninator is just the number of possible adjective combinations that Bob can recieve.\n",
    "    * Thus, $((5C4 * 19C1) + (5C5 * 19C0)) / (24C5) = 0.002 * 100 = 0.2% $ "
   ]
  },
  {
   "cell_type": "markdown",
   "metadata": {},
   "source": [
    "14. A lazy high school senior types up an application and evenlopes to $n$ different colleges, but puts the applications randomly into the envelopes. What is the expected number of applications that went to the right college?\n",
    "    * Due to the idea of linearity, we can assume that the total nmber of correctly stuff envelopes is 1. "
   ]
  },
  {
   "cell_type": "markdown",
   "metadata": {},
   "source": [
    "15. Let's say you have a very tall father. On average, what would you expect the height of his son to be? Taller, equal, or shorter? What if you had a very short father?\n",
    "    * If the father is taller:\n",
    "        * Shorther than the father, regression towards the mean height. \n",
    "    * If the father is shorter:\n",
    "        * Taller than the father, upward trend towards the mean"
   ]
  },
  {
   "cell_type": "markdown",
   "metadata": {},
   "source": [
    "16. What's the expected number of coin flips until you get two heads in a row? What's the expected number of coin flips until you get two tails in a row? \n",
    "    * The expected number of coin flips "
   ]
  },
  {
   "cell_type": "code",
   "execution_count": null,
   "metadata": {},
   "outputs": [],
   "source": []
  }
 ],
 "metadata": {
  "kernelspec": {
   "display_name": "Python 3.7.4 64-bit ('base': conda)",
   "language": "python",
   "name": "python37464bitbaseconda7d173c5ac3d647bb86950a56c57e9e53"
  },
  "language_info": {
   "codemirror_mode": {
    "name": "ipython",
    "version": 3
   },
   "file_extension": ".py",
   "mimetype": "text/x-python",
   "name": "python",
   "nbconvert_exporter": "python",
   "pygments_lexer": "ipython3",
   "version": "3.7.4"
  }
 },
 "nbformat": 4,
 "nbformat_minor": 4
}
