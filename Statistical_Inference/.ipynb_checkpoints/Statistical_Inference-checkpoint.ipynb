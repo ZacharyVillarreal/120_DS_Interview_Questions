{
 "cells": [
  {
   "cell_type": "markdown",
   "metadata": {},
   "source": [
    "# Statistical Inference - 15 Questions"
   ]
  },
  {
   "cell_type": "markdown",
   "metadata": {},
   "source": [
    "1. In an A/B test, how can you check if assignment to the various buckets was truly random?\n",
    "    * Plot the distributions of multiple features for both A and B and make sure that they have the same shape. \n",
    "    * More rigorously, we can conduct a permutation test to see if the distributions are the same.\n",
    "    * ANOVA to compare different means"
   ]
  },
  {
   "cell_type": "markdown",
   "metadata": {},
   "source": [
    "2. What might be the benefits of running an A/A test, where you have two buckets who are exposed to the exact same product?\n",
    "    * You can verify that the sampling algorithm is random."
   ]
  },
  {
   "cell_type": "markdown",
   "metadata": {},
   "source": [
    "3. What would be the hazards of letting users sneak a peek at the other bucket in the A/B test?\n",
    "    * The user might act differently then if they had not seen the other bucket.\n",
    "    * You are adding an additional variable of whether the user has seen the other bucket, or not, which is not random."
   ]
  },
  {
   "cell_type": "markdown",
   "metadata": {},
   "source": [
    "4. What would be some issues if blogs decide to cover one of your experimental groups?\n",
    "    * Same answer as the question above, however, it could happen in a larger scale."
   ]
  },
  {
   "cell_type": "markdown",
   "metadata": {},
   "source": [
    "5. How would you conduct an A/B test on an opt-in feature?\n",
    "    * Randomly split sample of email list into two groups - Treatment and Control (\"A\" and \"B\" groups)\n",
    "    * Send two types of emails with two variations, say \"A\" and \"B\"\n",
    "    * Then track the response rate on both email types based on rate of open, views, clicks and finally sales conversions.\n",
    "    * Finally, calculate the statistical significance of two email groups."
   ]
  },
  {
   "cell_type": "markdown",
   "metadata": {},
   "source": [
    "6. How would you run an A/B test for many variants, say 20 or more?\n",
    "    * One control group, 20 treatment, if the sample size for each group is large enough.\n",
    "    * Ways to attempt to correct for this is to include your confidence level or doing family-widetests before you dive in to the individual metrics"
   ]
  },
  {
   "cell_type": "markdown",
   "metadata": {},
   "source": [
    "7. How would you run an A/B test if the observations are extremely right-skewed?\n",
    "    * Lower the variability by modifying the KPI - look at two metrics(yes/no) instead of sale amount\n",
    "    * Cap values\n",
    "    * Percentile Metrics - for example, time-to-X tends to have a lot right-skewness. Instead of the mean, look at some percentile, such as 90th.\n",
    "    * Log transformation"
   ]
  },
  {
   "cell_type": "markdown",
   "metadata": {},
   "source": [
    "8. I have two different experiments that both change the sign-up button to my website. I want to test them at the same time. What kinds of things should I keep in mind?\n",
    "    * As long as they're exclusive, it should be okay"
   ]
  },
  {
   "cell_type": "markdown",
   "metadata": {},
   "source": [
    "9. What is a p-value? What is the difference between type-1 and type-2 error?\n",
    "    * P-value:\n",
    "        * the probability of observing the result of something more extreme given the null hypothesis is true\n",
    "    * Type-1 error:\n",
    "        * False Positive - rejecting H0, null hypothesis, when H0 is true\n",
    "    * Type-2 error:\n",
    "        * False Negative - not rejecting H0 when Ha, alternate hypothesis, is true."
   ]
  },
  {
   "cell_type": "markdown",
   "metadata": {},
   "source": [
    "10. You are AirBnB and you want to test the hypothesis that a greater number of photographs increases the chances that a buyer selects the listing. How would you test this hypothesis?\n",
    "    * For randomly selected listings w/ more than 1 picture, hide 1 random picture for Group A and show all for Group B. Compare the booking rate for the two groups."
   ]
  },
  {
   "cell_type": "markdown",
   "metadata": {},
   "source": [
    "11. How would you design an experiment to determine the impact of latency on user engagement?\n",
    "    * You can use an A/B Test and add felay, or latency, to group A and see if it impacts user engagement."
   ]
  },
  {
   "cell_type": "markdown",
   "metadata": {},
   "source": [
    "12. What is maximum likelihood estimation? Could there be any case where it doesn’t exist?\n",
    "    * Maximum Likelihood Estimation (MLE):\n",
    "        * A method for parameter optimization. We choose parameters so as to maximize the likliehood function (how likely the outcome would happen given the current data and our model).\n",
    "        * A method of estimating the parameters of a statistical model given observations, by finding the parameter values that maximize the likelihood of making the observations given the parameters. \n",
    "    * For non-parametric models it does not exist"
   ]
  },
  {
   "cell_type": "markdown",
   "metadata": {},
   "source": [
    "13. What's the difference between a MAP, MOM, MLE estimator? In which cases would you want to use each?\n",
    "    * MAP estimates the posterior distribution given the prior distribution and data which maximizes the likelihood function. MLE is a special case of MAP where the prior is uninformative uniform distribution.\n",
    "    * MOM, or method of moments, sets moment values and solves for the parameters.\n",
    "        * MOM is not used much anymore because maximum likelihood stimators have higher probability of being close to the quantities to be estimated and are more often unbiased."
   ]
  },
  {
   "cell_type": "markdown",
   "metadata": {},
   "source": [
    "14. What is a confidence interval and how do you interpret it?\n",
    "    * For example, 95% confidence interval is an interval that when constructed for a set of samples, each smapled in the same way, the constructed intervals include the true mean 95% of the time.\n",
    "    * If confidence intervals are constructed using a given confidence level in an infinite number of independent experiments, the proportion of those intervals that contain the true value of the parameter will match the confidence level."
   ]
  },
  {
   "cell_type": "markdown",
   "metadata": {},
   "source": [
    "15. What is unbiasedness as a property of an estimator? Is this always a desirable property when performing inference? What about in data analysis or predictive modeling?\n",
    "    * Unbiasedness means that the expectation of the estimator is equal to the population value we are estimating.\n",
    "        * This is desirable in inference b/c the goal is to explain the dataset as accurately as possible.\n",
    "        * However, this is not always desirable for data analysis or predictive modeling as there is bias variance tradeoff. We sometimes want to prioritize the generalizability and avoid overfitting by reducing variance and thus increasing bias."
   ]
  },
  {
   "cell_type": "code",
   "execution_count": null,
   "metadata": {},
   "outputs": [],
   "source": []
  }
 ],
 "metadata": {
  "kernelspec": {
   "display_name": "Python 3.7.4 64-bit ('base': conda)",
   "language": "python",
   "name": "python37464bitbaseconda7d173c5ac3d647bb86950a56c57e9e53"
  },
  "language_info": {
   "codemirror_mode": {
    "name": "ipython",
    "version": 3
   },
   "file_extension": ".py",
   "mimetype": "text/x-python",
   "name": "python",
   "nbconvert_exporter": "python",
   "pygments_lexer": "ipython3",
   "version": "3.7.4"
  }
 },
 "nbformat": 4,
 "nbformat_minor": 4
}
