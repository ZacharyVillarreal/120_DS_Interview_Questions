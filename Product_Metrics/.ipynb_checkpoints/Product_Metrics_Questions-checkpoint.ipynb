{
 "cells": [
  {
   "cell_type": "markdown",
   "metadata": {},
   "source": [
    "# Product Metrics - 15 Questions"
   ]
  },
  {
   "cell_type": "markdown",
   "metadata": {},
   "source": [
    "1. What would be good metrics of success for an advertising-driven consumer product? (Buzzfeed, YouTube, Google Search, etc.) A service-driven consumer product? (Uber, Flickr, Venmo, etc.)\n",
    "    * Advertising-driven companies:\n",
    "        * Click-throughs\n",
    "        * Number of Ads Displayed\n",
    "    * Service-Driven companies:\n",
    "        * Number of purchases\n",
    "        * Total amount in purchases\n",
    "        * Conversion Rate"
   ]
  },
  {
   "cell_type": "markdown",
   "metadata": {},
   "source": [
    "2. What would be good metrics of success for a productivity tool? (Evernote, Asana, Google Docs, etc.) A MOOC? (edX, Coursera, Udacity, etc.)\n",
    "    * Productivity tool:\n",
    "        * Number of premium subscriptions\n",
    "        * Daily Active Users\n",
    "    * MOOC:\n",
    "        * Number of premium subscriptions\n",
    "        * Subscription rate\n",
    "        * Completion Rate"
   ]
  },
  {
   "cell_type": "markdown",
   "metadata": {},
   "source": [
    "3. What would be good metrics of success for an e-commerce product? (Etsy, Groupon, Birchbox, etc.) A subscription product? (Netflix, Birchbox, Hulu, etc.) Premium subscriptions? (OKCupid, LinkedIn, Spotify, etc.) \n",
    "    * E-Commerce:\n",
    "        * Number of Purchases\n",
    "        * Conversion Rate\n",
    "        * Hourly, Daily, Weekly, Quarterly, and Annual Sales\n",
    "        * Cost of goods sold\n",
    "        * Inventory levels\n",
    "        * Site Traffic\n",
    "        * Unique visitors / Daily Active Visitors\n",
    "    * Subscriptions:\n",
    "        * Churn\n",
    "        * ARPU - Average Revenue Per User\n",
    "        * MRR - Monthly Recurring Revenue\n",
    "        * LTV - Life Time Value\n",
    "    * Premium:\n",
    "        * Subscription Rate"
   ]
  },
  {
   "cell_type": "markdown",
   "metadata": {},
   "source": [
    "4. What would be good metrics of success for a consumer product that relies heavily on engagement and interaction? (Snapchat, Pinterest, Facebook, etc.) A messaging product? (GroupMe, Hangouts, Snapchat, etc.)\n",
    "    * Product that relies heavily on engagement and interaction:\n",
    "        * Daily Active Users / Unique Users\n",
    "        * Push Notification Summary by Type\n",
    "        * Resurrection Ration\n",
    "        * You could create points for each type of interaction with a website, then calculate some customer success number, and use that to measure success.\n",
    "    * Messaging Product:\n",
    "        * Daily and Monthly Active Users\n",
    "        * Unique Users"
   ]
  },
  {
   "cell_type": "markdown",
   "metadata": {},
   "source": [
    "5. What would be good metrics of success for a product that offered in-app purchases? (Zynga, Angry Birds, other gaming apps)\n",
    "    * Average revenue per user\n",
    "    * Average revenue per Paid user\n",
    "    * How many customers have purchased something within the store."
   ]
  },
  {
   "cell_type": "markdown",
   "metadata": {},
   "source": [
    "6. A certain metric is violating your expectations by going down or up more than you expect. How would you try to identify the cause of the change?\n",
    "    * Breakdown the KPI's into it's subparts and find exactly where the change is\n",
    "    * Then breakdown the KPI even further by channel, user clusters, etc. and relate them with any cmampaign, changes in user behaviours in that segment"
   ]
  },
  {
   "cell_type": "markdown",
   "metadata": {},
   "source": [
    "7. Growth for the total number of tweets sent has been slow this month. What data would you look at to determine the cause of the problem?\n",
    "    * Look at historical data, try to determine historical trends and look specifically at the month you are concerned about.\n",
    "    * Look at outside factors, such as economic data, political data, and data that might influence the space you are working within"
   ]
  },
  {
   "cell_type": "markdown",
   "metadata": {},
   "source": [
    "8. You're a restaurant and are approached by Groupon to run a deal. What data would you ask from them in order to determine whether or not to do the deal?\n",
    "    * Ask for data from similar restaurants, but be sure to ask about how they define similarity.\n",
    "    * Then ask about the average increase in revenue gain per coupon, average increase in customers per coupon."
   ]
  },
  {
   "cell_type": "markdown",
   "metadata": {},
   "source": [
    "9. You are tasked with improving the efficiency of a subway system. Where would you start?\n",
    "    * First you need to define what efficiency means. Then from there you can take the necessary steps to provide the analytics that will improve said efficieny."
   ]
  },
  {
   "cell_type": "markdown",
   "metadata": {},
   "source": [
    "10. Say you are working on Facebook News Feed. What would be some metrics that you think are important? How would you make the news each person gets more relevant?\n",
    "    * Rating for each action, duration users stay, CTR for sponsor feed posts. \n",
    "    * Ref News Feed Optimization:\n",
    "        * Affinity score: How close the content creator and the users are\n",
    "        * Weight: Weight for the edge type (comment, like, tag, etc). Emphasis on features the company wants to promote.\n",
    "        * Time Decay: The older the less important"
   ]
  },
  {
   "cell_type": "markdown",
   "metadata": {},
   "source": [
    "11. How would you measure the impact that sponsored stories on Facebook News Feed have on user engagement? How would you determine the optimum balance between sponsored stories and organic content on a user’s News Feed?\n",
    "    * A/B Test on the difference balance ratios and see which one performs better"
   ]
  },
  {
   "cell_type": "markdown",
   "metadata": {},
   "source": [
    "12. You are on the data science team at Uber and you are asked to start thinking about surge pricing. What would be the objectives of such a product and how would you start looking into this?\n",
    "    * "
   ]
  },
  {
   "cell_type": "code",
   "execution_count": null,
   "metadata": {},
   "outputs": [],
   "source": []
  }
 ],
 "metadata": {
  "kernelspec": {
   "display_name": "Python 3.7.4 64-bit ('base': conda)",
   "language": "python",
   "name": "python37464bitbaseconda7d173c5ac3d647bb86950a56c57e9e53"
  },
  "language_info": {
   "codemirror_mode": {
    "name": "ipython",
    "version": 3
   },
   "file_extension": ".py",
   "mimetype": "text/x-python",
   "name": "python",
   "nbconvert_exporter": "python",
   "pygments_lexer": "ipython3",
   "version": "3.7.4"
  }
 },
 "nbformat": 4,
 "nbformat_minor": 4
}
